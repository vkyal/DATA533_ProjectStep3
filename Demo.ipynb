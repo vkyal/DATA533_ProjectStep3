{
 "cells": [
  {
   "cell_type": "markdown",
   "id": "fa993dda",
   "metadata": {},
   "source": [
    "# Test Demo"
   ]
  },
  {
   "cell_type": "code",
   "execution_count": 2,
   "id": "50215198-19e6-4fb5-acca-936c777bd2bf",
   "metadata": {},
   "outputs": [
    {
     "name": "stdout",
     "output_type": "stream",
     "text": [
      "Welcome to\n",
      "\n",
      "    ╔╗ ┌─┐┌─┐┬┌─  ╔╦╗┬ ┬  ╔═╗┌─┐┌─┐┌┬┐\n",
      "    ╠╩╗│ ││ │├┴┐  ║║║└┬┘  ╚═╗├─┘│ │ │\n",
      "    ╚═╝└─┘└─┘┴ ┴  ╩ ╩ ┴   ╚═╝┴  └─┘ ┴   --by Xinyu and Varshita\n",
      "    \n",
      "\n",
      " Options for location: Downtown, Glenmore, Around Campus, Rutland\n"
     ]
    },
    {
     "name": "stdin",
     "output_type": "stream",
     "text": [
      "\n",
      "From the above, where do you want to eat? Downtown\n"
     ]
    },
    {
     "name": "stdout",
     "output_type": "stream",
     "text": [
      "\n",
      " Options for cuisine: Canadian, Chinese, Indian,Vietnamaese,Taiwanese \n"
     ]
    },
    {
     "name": "stdin",
     "output_type": "stream",
     "text": [
      "\n",
      " From the above, which cuisine type do you want to eat? Canadian\n"
     ]
    },
    {
     "name": "stdout",
     "output_type": "stream",
     "text": [
      " \n",
      " Name:CRAFT   Link:https://goo.gl/maps/NWo2ELGLaTQYtLJ17   Rating:4.3   Customers:1683\n",
      " \n",
      " Name:Cactus Club   Link:https://goo.gl/maps/RmsGijZ2kTZ6BSxS6   Rating:4.4   Customers:1870\n"
     ]
    },
    {
     "name": "stdin",
     "output_type": "stream",
     "text": [
      "Do you want to book reservation, yes/no  : yes\n",
      "\n",
      " Please select a restaurant you want to book   : CRAFT\n"
     ]
    },
    {
     "name": "stdout",
     "output_type": "stream",
     "text": [
      "    TimeSlot\n",
      "1  10am:12pm\n",
      "2  12pm:02pm\n",
      "3  02pm:04pm\n",
      "4  04pm:06pm\n",
      "5  06pm:08pm\n"
     ]
    },
    {
     "name": "stdin",
     "output_type": "stream",
     "text": [
      "\n",
      " Select a timeSlot you want to dine in?, enter 1-5  : 1\n"
     ]
    },
    {
     "name": "stdout",
     "output_type": "stream",
     "text": [
      "\n",
      "               Seater\n",
      "Table number        \n",
      "1                  4\n",
      "2                  4\n",
      "3                  4\n",
      "4                  6\n"
     ]
    },
    {
     "name": "stdin",
     "output_type": "stream",
     "text": [
      "which table you want to pick?   : 1\n"
     ]
    },
    {
     "name": "stdout",
     "output_type": "stream",
     "text": [
      "Hurray🎉!! Table is booked\n"
     ]
    },
    {
     "name": "stdin",
     "output_type": "stream",
     "text": [
      "Would you like to give Feedback, yes/no  : yes\n",
      "\n",
      " What is your rating, given the scale of 1-5  : 1\n"
     ]
    },
    {
     "name": "stdout",
     "output_type": "stream",
     "text": [
      "\n",
      " Thankyou for your Feedback!\n"
     ]
    }
   ],
   "source": [
    "## Demo\n",
    "\n",
    "from BookMySpot.Data.CustomerInteraction import *\n",
    "from BookMySpot.Data.Database import *\n",
    "from BookMySpot.Structure.Restaurant import *\n",
    "from BookMySpot.Structure.Table import *\n",
    "\n",
    "\n",
    "# initializing the objects\n",
    "tableList = initialize()\n",
    "\n",
    "# Greeting the user\n",
    "greeting()\n",
    "\n",
    "# Get preference\n",
    "userRes = record()\n",
    "\n",
    "#show restaturant\n",
    "restInfo(userRes,tableList)\n",
    "\n",
    "\n",
    "run = input(\"Do you want to book reservation, yes/no  :\")\n",
    "if run =='yes':\n",
    "    name = askbooking()\n",
    "    democheckin = checkin()\n",
    "    time = chosenTable(name,tableList).emptyTable(democheckin)\n",
    "    table_num = int(input(\"which table you want to pick?   :\"))\n",
    "    book = chosenTable(name,tableList).bookTable(table_num,democheckin)\n",
    "    feed = input(\"Would you like to give Feedback, yes/no  :\")\n",
    "    if feed =='yes':\n",
    "        rate = askFeedback()\n",
    "        chosenTable(name,tableList).updateRating(rate)\n",
    "        chosenTable(name,tableList).updateCustomer()\n",
    "    else:\n",
    "        print(\"Hope you like our Suggestion! Visit us again!\")\n",
    "        \n",
    "else:\n",
    "    print(\"Hope you like our Suggestion! Visit us again!\")\n",
    "\n",
    "\n",
    "\n"
   ]
  },
  {
   "cell_type": "code",
   "execution_count": null,
   "id": "51fb6500",
   "metadata": {},
   "outputs": [],
   "source": [
    "\n"
   ]
  }
 ],
 "metadata": {
  "kernelspec": {
   "display_name": "Python 3",
   "language": "python",
   "name": "python3"
  },
  "language_info": {
   "codemirror_mode": {
    "name": "ipython",
    "version": 3
   },
   "file_extension": ".py",
   "mimetype": "text/x-python",
   "name": "python",
   "nbconvert_exporter": "python",
   "pygments_lexer": "ipython3",
   "version": "3.9.12"
  }
 },
 "nbformat": 4,
 "nbformat_minor": 5
}
